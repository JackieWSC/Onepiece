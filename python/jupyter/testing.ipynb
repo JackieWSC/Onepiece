{
 "cells": [
  {
   "cell_type": "code",
   "execution_count": 2,
   "metadata": {},
   "outputs": [],
   "source": [
    "import numpy as np\n",
    "import pandas as pd"
   ]
  },
  {
   "cell_type": "code",
   "execution_count": 3,
   "metadata": {},
   "outputs": [],
   "source": [
    "df = pd.read_csv('sample.csv')"
   ]
  },
  {
   "cell_type": "code",
   "execution_count": 31,
   "metadata": {},
   "outputs": [],
   "source": [
    "zone_sum_wo_total  = df[df.Channel != '總數'].groupby('Zone').sum()"
   ]
  },
  {
   "cell_type": "code",
   "execution_count": 32,
   "metadata": {},
   "outputs": [
    {
     "name": "stdout",
     "output_type": "stream",
     "text": [
      "      Impressions   Clicks   Revenue   Year\n",
      "Zone                                       \n",
      "01活動        180.0      0.0      1.22   6060\n",
      "中國      1816018.0   8479.0  13330.31  26260\n",
      "國際      2617722.0  10942.0  19474.34  22220\n",
      "女生      2716177.0  12606.0  24309.56  22220\n",
      "好食玩飛    1654994.0  12807.0  15699.29  10100\n"
     ]
    }
   ],
   "source": [
    "print(zone_sum_wo_total.head())"
   ]
  },
  {
   "cell_type": "code",
   "execution_count": 33,
   "metadata": {},
   "outputs": [],
   "source": [
    "zone_sum_with_total  = df[df.Channel == '總數'].groupby('Zone').sum()"
   ]
  },
  {
   "cell_type": "code",
   "execution_count": 34,
   "metadata": {},
   "outputs": [
    {
     "name": "stdout",
     "output_type": "stream",
     "text": [
      "      Impressions   Clicks   Revenue  Year\n",
      "Zone                                      \n",
      "01活動       1581.0     47.0      9.05  2020\n",
      "中國      1929344.0   8684.0  13822.70  4040\n",
      "國際      2900609.0  11631.0  20836.47  4040\n",
      "女生      2887888.0  12918.0  25238.62  4040\n",
      "好食玩飛    1772695.0  13156.0  16359.22  4040\n"
     ]
    }
   ],
   "source": [
    "print(zone_sum_with_total.head())"
   ]
  },
  {
   "cell_type": "code",
   "execution_count": 61,
   "metadata": {},
   "outputs": [],
   "source": [
    "result_2 = zone_sum_with_total - zone_sum_wo_total"
   ]
  },
  {
   "cell_type": "code",
   "execution_count": 62,
   "metadata": {},
   "outputs": [],
   "source": [
    "result_2.drop('Clicks', axis=1, inplace=True)\n",
    "result_2.drop('Revenue', axis=1, inplace=True)\n",
    "result_2.drop('Year', axis=1, inplace=True)\n",
    "result_2['Channel'] = 'Other'"
   ]
  },
  {
   "cell_type": "code",
   "execution_count": 63,
   "metadata": {},
   "outputs": [
    {
     "name": "stdout",
     "output_type": "stream",
     "text": [
      "      Impressions Channel\n",
      "Zone                     \n",
      "01活動       1401.0   Other\n",
      "中國       113326.0   Other\n",
      "國際       282887.0   Other\n",
      "女生       171711.0   Other\n",
      "好食玩飛     117701.0   Other\n",
      "娛樂       554103.0   Other\n",
      "影像         2822.0   Other\n",
      "會員資訊       2104.0   Other\n",
      "港聞      4225042.0   Other\n",
      "熱話       109580.0   Other\n",
      "生活       177218.0   Other\n",
      "社區        88509.0   Other\n",
      "科技玩物     309482.0   Other\n",
      "經濟       293257.0   Other\n",
      "藝文格物       4085.0   Other\n",
      "觀點       240812.0   Other\n",
      "體育       180816.0   Other\n"
     ]
    }
   ],
   "source": [
    "print(result_2.head(20))"
   ]
  },
  {
   "cell_type": "code",
   "execution_count": 65,
   "metadata": {},
   "outputs": [],
   "source": [
    "new_df = pd.concat([df,result_2],sort=True)"
   ]
  },
  {
   "cell_type": "code",
   "execution_count": 66,
   "metadata": {},
   "outputs": [
    {
     "name": "stdout",
     "output_type": "stream",
     "text": [
      "     Channel   Clicks  Impressions Inventory_types      Key-values  \\\n",
      "0       社會新聞      0.0          1.0             Web    channel_id=1   \n",
      "1       社會新聞      9.0       2117.0             Web    channel_id=1   \n",
      "2         職場      1.0         53.0             Web  channel_id=142   \n",
      "3         職場   2026.0     475952.0             Web  channel_id=142   \n",
      "4       01偵查      0.0          4.0             Web  channel_id=143   \n",
      "5       01偵查    885.0     214496.0             Web  channel_id=143   \n",
      "6        武備志      0.0          1.0             Web  channel_id=166   \n",
      "7        武備志    953.0     153201.0             Web  channel_id=166   \n",
      "8         一物      0.0          5.0             Web  channel_id=182   \n",
      "9         一物   2013.0     268588.0             Web  channel_id=182   \n",
      "10       扭耳仔    104.0      49017.0             Web  channel_id=183   \n",
      "11    Jumper      0.0          1.0             Web  channel_id=184   \n",
      "12    Jumper   1214.0     395570.0             Web  channel_id=184   \n",
      "13      即時國際      0.0         46.0             Web   channel_id=19   \n",
      "14      即時國際   6058.0    1486511.0             Web   channel_id=19   \n",
      "15      社會新聞      3.0        328.0             Web    channel_id=2   \n",
      "16      社會新聞  42976.0    8142377.0             Web    channel_id=2   \n",
      "17      即時體育      2.0         13.0             Web   channel_id=20   \n",
      "18      即時體育   5085.0    1642373.0             Web   channel_id=20   \n",
      "19        藝文      0.0          1.0             Web  channel_id=206   \n",
      "20        藝文     85.0      37539.0             Web  channel_id=206   \n",
      "21      即時娛樂      1.0        105.0             Web   channel_id=22   \n",
      "22      即時娛樂  20820.0    4390144.0             Web   channel_id=22   \n",
      "23      社區專題      0.0          1.0             Web   channel_id=23   \n",
      "24      社區專題    501.0     159730.0             Web   channel_id=23   \n",
      "25       好生活      0.0         27.0             Web   channel_id=25   \n",
      "26       好生活    330.0      67278.0             Web   channel_id=25   \n",
      "27        紀實      0.0          6.0             Web  channel_id=259   \n",
      "28        紀實    322.0      30684.0             Web  channel_id=259   \n",
      "29        親子      1.0        154.0             Web   channel_id=26   \n",
      "...      ...      ...          ...             ...             ...   \n",
      "151       動感      0.0        131.0             Web  channel_id=256   \n",
      "152      第二身     16.0       9654.0             Web  channel_id=323   \n",
      "153      攝影界     25.0       3448.0             Web  channel_id=348   \n",
      "154     宏觀解讀    233.0      60985.0             Web  channel_id=398   \n",
      "155     地產樓市   1682.0     281817.0             Web  channel_id=399   \n",
      "156     外媒文摘     63.0      12058.0             Web  channel_id=408   \n",
      "157     中國經濟     65.0       3555.0             Web  channel_id=428   \n",
      "158     社區伙伴      7.0       3099.0             Web  channel_id=434   \n",
      "159     機票酒店     61.0       2338.0             Web  channel_id=448   \n",
      "160       社論      9.0       3532.0             Web  channel_id=449   \n",
      "161     獎賞專區     26.0       2173.0             Web   channel_id=80   \n",
      "162     賺分專區      1.0        141.0             Web   channel_id=81   \n",
      "163       總數     47.0       1581.0             Web      zone_id=16   \n",
      "01活動   Other      NaN       1401.0             NaN             NaN   \n",
      "中國     Other      NaN     113326.0             NaN             NaN   \n",
      "國際     Other      NaN     282887.0             NaN             NaN   \n",
      "女生     Other      NaN     171711.0             NaN             NaN   \n",
      "好食玩飛   Other      NaN     117701.0             NaN             NaN   \n",
      "娛樂     Other      NaN     554103.0             NaN             NaN   \n",
      "影像     Other      NaN       2822.0             NaN             NaN   \n",
      "會員資訊   Other      NaN       2104.0             NaN             NaN   \n",
      "港聞     Other      NaN    4225042.0             NaN             NaN   \n",
      "熱話     Other      NaN     109580.0             NaN             NaN   \n",
      "生活     Other      NaN     177218.0             NaN             NaN   \n",
      "社區     Other      NaN      88509.0             NaN             NaN   \n",
      "科技玩物   Other      NaN     309482.0             NaN             NaN   \n",
      "經濟     Other      NaN     293257.0             NaN             NaN   \n",
      "藝文格物   Other      NaN       4085.0             NaN             NaN   \n",
      "觀點     Other      NaN     240812.0             NaN             NaN   \n",
      "體育     Other      NaN     180816.0             NaN             NaN   \n",
      "\n",
      "     LineItemType     Month   Revenue    Year  Zone  \n",
      "0               -  February      0.03  2020.0    港聞  \n",
      "1     Ad Exchange  February     15.92  2020.0    港聞  \n",
      "2               -  February      1.11  2020.0    生活  \n",
      "3     Ad Exchange  February   4440.03  2020.0    生活  \n",
      "4               -  February      0.05  2020.0    港聞  \n",
      "5     Ad Exchange  February   1808.47  2020.0    港聞  \n",
      "6               -  February      0.00  2020.0    體育  \n",
      "7     Ad Exchange  February   1123.29  2020.0    體育  \n",
      "8               -  February      0.06  2020.0    女生  \n",
      "9     Ad Exchange  February   2392.99  2020.0    女生  \n",
      "10    Ad Exchange  February    345.04  2020.0  藝文格物  \n",
      "11              -  February      0.10  2020.0    體育  \n",
      "12    Ad Exchange  February   3633.46  2020.0    體育  \n",
      "13              -  February      0.56  2020.0    國際  \n",
      "14    Ad Exchange  February  10716.14  2020.0    國際  \n",
      "15              -  February      6.50  2020.0    港聞  \n",
      "16    Ad Exchange  February  70594.52  2020.0    港聞  \n",
      "17              -  February      0.05  2020.0    體育  \n",
      "18    Ad Exchange  February  17739.65  2020.0    體育  \n",
      "19              -  February      0.00  2020.0  藝文格物  \n",
      "20    Ad Exchange  February    254.83  2020.0  藝文格物  \n",
      "21              -  February      1.16  2020.0    娛樂  \n",
      "22    Ad Exchange  February  38386.13  2020.0    娛樂  \n",
      "23              -  February      0.02  2020.0    社區  \n",
      "24    Ad Exchange  February   1279.18  2020.0    社區  \n",
      "25              -  February      0.66  2020.0    生活  \n",
      "26    Ad Exchange  February    616.45  2020.0    生活  \n",
      "27              -  February      0.04  2020.0    影像  \n",
      "28    Ad Exchange  February    272.09  2020.0    影像  \n",
      "29              -  February      4.52  2020.0    生活  \n",
      "...           ...       ...       ...     ...   ...  \n",
      "151   Ad Exchange  February      0.79  2020.0    影像  \n",
      "152   Ad Exchange  February     64.10  2020.0  藝文格物  \n",
      "153   Ad Exchange  February     24.08  2020.0    影像  \n",
      "154   Ad Exchange  February    478.75  2020.0    經濟  \n",
      "155   Ad Exchange  February   2492.86  2020.0    經濟  \n",
      "156   Ad Exchange  February     76.92  2020.0    國際  \n",
      "157   Ad Exchange  February     18.04  2020.0    中國  \n",
      "158   Ad Exchange  February     18.78  2020.0    社區  \n",
      "159   Ad Exchange  February     12.75  2020.0  好食玩飛  \n",
      "160   Ad Exchange  February     13.05  2020.0    觀點  \n",
      "161   Ad Exchange  February     20.56  2020.0  會員資訊  \n",
      "162   Ad Exchange  February      0.98  2020.0  會員資訊  \n",
      "163   Ad Exchange  February      9.05  2020.0  01活動  \n",
      "01活動          NaN       NaN       NaN     NaN   NaN  \n",
      "中國            NaN       NaN       NaN     NaN   NaN  \n",
      "國際            NaN       NaN       NaN     NaN   NaN  \n",
      "女生            NaN       NaN       NaN     NaN   NaN  \n",
      "好食玩飛          NaN       NaN       NaN     NaN   NaN  \n",
      "娛樂            NaN       NaN       NaN     NaN   NaN  \n",
      "影像            NaN       NaN       NaN     NaN   NaN  \n",
      "會員資訊          NaN       NaN       NaN     NaN   NaN  \n",
      "港聞            NaN       NaN       NaN     NaN   NaN  \n",
      "熱話            NaN       NaN       NaN     NaN   NaN  \n",
      "生活            NaN       NaN       NaN     NaN   NaN  \n",
      "社區            NaN       NaN       NaN     NaN   NaN  \n",
      "科技玩物          NaN       NaN       NaN     NaN   NaN  \n",
      "經濟            NaN       NaN       NaN     NaN   NaN  \n",
      "藝文格物          NaN       NaN       NaN     NaN   NaN  \n",
      "觀點            NaN       NaN       NaN     NaN   NaN  \n",
      "體育            NaN       NaN       NaN     NaN   NaN  \n",
      "\n",
      "[181 rows x 10 columns]\n"
     ]
    }
   ],
   "source": [
    "print(new_df.head(500))"
   ]
  },
  {
   "cell_type": "code",
   "execution_count": 20,
   "metadata": {},
   "outputs": [],
   "source": [
    "student = pd.read_csv('student.csv')\n",
    "rule = pd.read_csv('rule.csv')"
   ]
  },
  {
   "cell_type": "code",
   "execution_count": 21,
   "metadata": {},
   "outputs": [
    {
     "name": "stdout",
     "output_type": "stream",
     "text": [
      "     name  Basketball  Football  Reading\n",
      "0  Jackie           1         0        0\n",
      "1   Tommy           1         0        1\n",
      "2   Billy           0         0        1\n"
     ]
    }
   ],
   "source": [
    "print(student.head())"
   ]
  },
  {
   "cell_type": "code",
   "execution_count": 22,
   "metadata": {},
   "outputs": [
    {
     "name": "stdout",
     "output_type": "stream",
     "text": [
      "   Basketball  Football  Reading               type\n",
      "0           1         0        0            sportly\n",
      "1           1         0        1  sportly & stylish\n",
      "2           0         0        1            stylish\n"
     ]
    }
   ],
   "source": [
    "print(rule.head())"
   ]
  },
  {
   "cell_type": "code",
   "execution_count": 23,
   "metadata": {},
   "outputs": [],
   "source": [
    "result = student.merge(rule, on=['Basketball','Football','Reading'], how='left')"
   ]
  },
  {
   "cell_type": "code",
   "execution_count": 24,
   "metadata": {},
   "outputs": [
    {
     "name": "stdout",
     "output_type": "stream",
     "text": [
      "     name  Basketball  Football  Reading               type\n",
      "0  Jackie           1         0        0            sportly\n",
      "1   Tommy           1         0        1  sportly & stylish\n",
      "2   Billy           0         0        1            stylish\n"
     ]
    }
   ],
   "source": [
    "print(result.head())"
   ]
  }
 ],
 "metadata": {
  "kernelspec": {
   "display_name": "Python 3",
   "language": "python",
   "name": "python3"
  },
  "language_info": {
   "codemirror_mode": {
    "name": "ipython",
    "version": 3
   },
   "file_extension": ".py",
   "mimetype": "text/x-python",
   "name": "python",
   "nbconvert_exporter": "python",
   "pygments_lexer": "ipython3",
   "version": "3.6.5"
  },
  "toc": {
   "base_numbering": 1,
   "nav_menu": {},
   "number_sections": true,
   "sideBar": true,
   "skip_h1_title": false,
   "title_cell": "Table of Contents",
   "title_sidebar": "Contents",
   "toc_cell": false,
   "toc_position": {},
   "toc_section_display": true,
   "toc_window_display": false
  }
 },
 "nbformat": 4,
 "nbformat_minor": 2
}
